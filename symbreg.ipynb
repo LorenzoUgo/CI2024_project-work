{
 "cells": [
  {
   "cell_type": "code",
   "execution_count": 11,
   "metadata": {},
   "outputs": [],
   "source": [
    "import numpy as np\n",
    "from icecream import ic\n",
    "import inspect\n",
    "from src.utils import *\n",
    "import random\n",
    "import types"
   ]
  },
  {
   "cell_type": "markdown",
   "metadata": {},
   "source": [
    "# Funny Playgroud"
   ]
  },
  {
   "cell_type": "code",
   "execution_count": 2,
   "metadata": {},
   "outputs": [],
   "source": [
    "tree = Node(np.abs, [Node(np.multiply, (Node(4),Node(\"x\")))])\n",
    "\n",
    "second_tree = Node(np.abs, [Node(np.multiply, (Node(4),Node(\"x\")))])"
   ]
  },
  {
   "cell_type": "code",
   "execution_count": 4,
   "metadata": {},
   "outputs": [],
   "source": [
    "ind1 = Individual(tree, x, y)\n",
    "ind2 = Individual(second_tree, x, y)"
   ]
  },
  {
   "cell_type": "code",
   "execution_count": 6,
   "metadata": {},
   "outputs": [
    {
     "data": {
      "text/plain": [
       "True"
      ]
     },
     "execution_count": 6,
     "metadata": {},
     "output_type": "execute_result"
    }
   ],
   "source": [
    "ind1 == ind2"
   ]
  },
  {
   "cell_type": "code",
   "execution_count": 20,
   "metadata": {},
   "outputs": [
    {
     "name": "stdout",
     "output_type": "stream",
     "text": [
      "True\n"
     ]
    }
   ],
   "source": [
    "var_list = [f\"x{i}\" for i in range(5)]\n",
    "\n",
    "i = random.choice(var_list)\n",
    "j = random.choice(var_list)\n",
    "\n",
    "while i != j:\n",
    "    j = random.choice(var_list)\n",
    "\n",
    "print(i is j)"
   ]
  },
  {
   "cell_type": "code",
   "execution_count": 8,
   "metadata": {},
   "outputs": [
    {
     "name": "stdout",
     "output_type": "stream",
     "text": [
      "arcsinh\n",
      "sin\n",
      "exp\n",
      "exp\n",
      "arccos\n",
      "arctan\n",
      "cbrt\n",
      "subtract\n",
      "arcsinh\n",
      "log10\n",
      "log\n",
      "hypot\n",
      "hypot\n",
      "arctanh\n",
      "log1p\n",
      "absolute\n"
     ]
    }
   ],
   "source": [
    "ga = Genetic_Algorithm(10,10,10,10,10,3)"
   ]
  },
  {
   "cell_type": "code",
   "execution_count": 9,
   "metadata": {},
   "outputs": [
    {
     "name": "stdout",
     "output_type": "stream",
     "text": [
      "[<utils.Individual object at 0x000002B3B50D4C80>, <utils.Individual object at 0x000002B3B50D4890>, <utils.Individual object at 0x000002B3B50D4170>, <utils.Individual object at 0x000002B3B50D60C0>, <utils.Individual object at 0x000002B3B50D6090>, <utils.Individual object at 0x000002B3A6CC6D50>, <utils.Individual object at 0x000002B3A6C565D0>, <utils.Individual object at 0x000002B3B50CE570>, <utils.Individual object at 0x000002B3B50CFC50>, <utils.Individual object at 0x000002B3B50CF830>]\n",
      "(arcsinh x1)\n",
      "(sin x0)\n",
      "(exp (exp (arccos x2)))\n",
      "(arctan 0.9695611851188644)\n",
      "(cbrt x1)\n",
      "(x1 subtract x0)\n",
      "(arcsinh -0.422371724283928)\n",
      "(log10 (log (x2 hypot x0)))\n",
      "(x2 hypot (arctanh x0))\n",
      "(log1p (absolute -0.597658180334891))\n"
     ]
    }
   ],
   "source": [
    "print(ga._population)\n",
    "ga.show_population()"
   ]
  },
  {
   "cell_type": "code",
   "execution_count": 6,
   "metadata": {},
   "outputs": [
    {
     "name": "stdout",
     "output_type": "stream",
     "text": [
      "Computed value:  1.9327034817256148\n",
      "Computed value:  0.8399436735508534\n",
      "Computed value:  9.074424655013587\n",
      "Computed value:  -1.0969358435340042\n",
      "Computed value:  nan\n",
      "Computed value:  1.0\n",
      "Computed value:  1.0\n",
      "Computed value:  50.74208966674222\n",
      "Computed value:  -1.0969358435340042\n",
      "Computed value:  1.340781645467003\n"
     ]
    },
    {
     "name": "stderr",
     "output_type": "stream",
     "text": [
      "c:\\Users\\Lorenzo Ugoccioni\\Documents\\PoliTo\\LM - III anno\\Computational Intelligence\\Labs\\CI2024_Project_Work\\src\\utils.py:63: RuntimeWarning: invalid value encountered in arccos\n",
      "  return node(*_args)\n"
     ]
    }
   ],
   "source": [
    "ga.deploy_population(2.31)"
   ]
  },
  {
   "cell_type": "code",
   "execution_count": 5,
   "metadata": {},
   "outputs": [
    {
     "data": {
      "text/plain": [
       "2"
      ]
     },
     "execution_count": 5,
     "metadata": {},
     "output_type": "execute_result"
    }
   ],
   "source": [
    "\n",
    "np.floor_divide.nin"
   ]
  },
  {
   "cell_type": "code",
   "execution_count": 25,
   "metadata": {},
   "outputs": [
    {
     "data": {
      "text/plain": [
       "False"
      ]
     },
     "execution_count": 25,
     "metadata": {},
     "output_type": "execute_result"
    }
   ],
   "source": [
    "type(_value) == type(v)"
   ]
  },
  {
   "cell_type": "code",
   "execution_count": 8,
   "metadata": {},
   "outputs": [
    {
     "name": "stdout",
     "output_type": "stream",
     "text": [
      "()\n"
     ]
    }
   ],
   "source": [
    "x = tuple()\n",
    "y = list(x).append(6)\n",
    "print (x)"
   ]
  },
  {
   "cell_type": "code",
   "execution_count": 28,
   "metadata": {},
   "outputs": [
    {
     "name": "stdout",
     "output_type": "stream",
     "text": [
      "Problem type 4:  float64 float64\n"
     ]
    }
   ],
   "source": [
    "problem = np.load(f'../data/problem_{PROBLEM_NUM}.npz')\n",
    "x = problem['x']\n",
    "y = problem['y']\n",
    "print(f\"Problem type {PROBLEM_NUM}: \",x.dtype, y.dtype)"
   ]
  },
  {
   "cell_type": "code",
   "execution_count": 28,
   "metadata": {},
   "outputs": [
    {
     "data": {
      "image/png": "[encoded data removed]",
      "text/plain": [
       "<Figure size 640x480 with 1 Axes>"
      ]
     },
     "metadata": {},
     "output_type": "display_data"
    }
   ],
   "source": [
    "import matplotlib.pyplot as plt\n",
    "\n",
    "plt.figure()\n",
    "\n",
    "plt.scatter(x[1], y)\n",
    "plt.show()"
   ]
  },
  {
   "cell_type": "markdown",
   "metadata": {},
   "source": [
    "# Data Preparation"
   ]
  },
  {
   "cell_type": "code",
   "execution_count": 2,
   "metadata": {},
   "outputs": [
    {
     "name": "stdout",
     "output_type": "stream",
     "text": [
      "Problem type 0:  (2, 1000) (1000,)\n",
      "Number of variables:  2\n"
     ]
    }
   ],
   "source": [
    "### DATA LOADER ###\n",
    "PROBLEM_NUM = 0\n",
    "\n",
    "x, y = data_loader(PROBLEM_NUM)"
   ]
  },
  {
   "cell_type": "code",
   "execution_count": 3,
   "metadata": {},
   "outputs": [
    {
     "name": "stdout",
     "output_type": "stream",
     "text": [
      "Train dataset:  (2, 700) (700,)\n",
      "Test dataset:  (2, 300) (300,)\n"
     ]
    }
   ],
   "source": [
    "### DATA SPLIT  ###\n",
    "(x_train, y_train) , (x_test, y_test) = data_split(x, y)"
   ]
  },
  {
   "cell_type": "code",
   "execution_count": 4,
   "metadata": {},
   "outputs": [
    {
     "name": "stdout",
     "output_type": "stream",
     "text": [
      "(arctan x1)\n",
      "(sqrt 0.6474865818499511)\n",
      "(log10 (sinh -0.2209351605186991))\n",
      "(arcsinh x0)\n",
      "(x1 add x0)\n",
      "(sqrt -0.8318355679537186)\n",
      "(cbrt -0.9685422955220493)\n",
      "(sqrt (log x0))\n",
      "(sin (sqrt 0.7907783687313272))\n",
      "(exp2 (arctan x1))\n",
      "(log2 (arctanh x1))\n",
      "(arcsin (cbrt x1))\n",
      "(cbrt 0.5783326565122124)\n",
      "((tanh x1) divide x1)\n",
      "((x1 divide x1) divide -0.3328485455129122)\n",
      "(tan (x0 multiply 0.14684052582358964))\n",
      "(cos (cos x0))\n",
      "(arcsin 0.0032129188050875612)\n",
      "(sin (tan x0))\n",
      "(sinh (log2 x0))\n",
      "(reciprocal x0)\n",
      "(tanh x0)\n",
      "(expm1 (expm1 x0))\n",
      "(x1 add (sin -0.4280796287756117))\n",
      "(tan -0.05033123145578022)\n"
     ]
    }
   ],
   "source": [
    "GA = Genetic_Algorithm(25, 10, 50, 3, x_train.shape[0])\n",
    "\n",
    "#   GA.show_population()"
   ]
  },
  {
   "cell_type": "code",
   "execution_count": 5,
   "metadata": {},
   "outputs": [
    {
     "name": "stderr",
     "output_type": "stream",
     "text": [
      "Generation:   0%|          | 0/50 [00:00<?, ?it/s]"
     ]
    },
    {
     "name": "stderr",
     "output_type": "stream",
     "text": [
      "Generation: 100%|██████████| 50/50 [00:00<00:00, 77.26it/s]"
     ]
    },
    {
     "name": "stdout",
     "output_type": "stream",
     "text": [
      "At the end, the current individual is the best:\n",
      "\t--> Fitenss = 337.5455344480751\n",
      "\t--> MSE = 337.5455344480751\n",
      "\t--> Function: (square 0.0032129188050875612)\n"
     ]
    },
    {
     "name": "stderr",
     "output_type": "stream",
     "text": [
      "\n"
     ]
    }
   ],
   "source": [
    "history = GA.start(x_train, y_train)"
   ]
  },
  {
   "cell_type": "code",
   "execution_count": 6,
   "metadata": {},
   "outputs": [
    {
     "data": {
      "image/png": "[encoded data removed]",
      "text/plain": [
       "<Figure size 640x480 with 1 Axes>"
      ]
     },
     "metadata": {},
     "output_type": "display_data"
    }
   ],
   "source": [
    "GA.plot_fitness_history(history)"
   ]
  },
  {
   "cell_type": "markdown",
   "metadata": {},
   "source": [
    "## Evaluation\n"
   ]
  },
  {
   "cell_type": "code",
   "execution_count": null,
   "metadata": {},
   "outputs": [],
   "source": []
  },
  {
   "cell_type": "markdown",
   "metadata": {},
   "source": [
    "# Test"
   ]
  },
  {
   "cell_type": "code",
   "execution_count": 10,
   "metadata": {},
   "outputs": [
    {
     "name": "stdout",
     "output_type": "stream",
     "text": [
      "[<function f0 at 0x000002501ED74B80>, <function f1 at 0x000002501ED74C20>, <function f2 at 0x000002501ED74CC0>, <function f3 at 0x000002501ED74D60>, <function f4 at 0x000002501ED74E00>, <function f5 at 0x000002501ED74EA0>, <function f6 at 0x000002501ED74F40>, <function f7 at 0x000002501ED74FE0>, <function f8 at 0x000002501ED75080>]\n"
     ]
    }
   ],
   "source": [
    "### FUNCTION TO TEST    ###\n",
    "function = function_cod(num=8)\n",
    "print(function)"
   ]
  },
  {
   "cell_type": "code",
   "execution_count": 9,
   "metadata": {},
   "outputs": [
    {
     "data": {
      "text/plain": [
       "((1, 500), (500,))"
      ]
     },
     "execution_count": 9,
     "metadata": {},
     "output_type": "execute_result"
    }
   ],
   "source": [
    "problem = np.load(f'data/problem_{PROBLEM_NUM}.npz')\n",
    "x = problem['x']\n",
    "y = problem['y']\n",
    "x.shape, y.shape\n"
   ]
  },
  {
   "cell_type": "code",
   "execution_count": 8,
   "metadata": {},
   "outputs": [
    {
     "name": "stdout",
     "output_type": "stream",
     "text": [
      "MSE (train): 189.106\n",
      "MSE (real) : 189.106\n"
     ]
    }
   ],
   "source": [
    "print(f\"MSE (train): {100*np.square(y-function[PROBLEM_NUM](x)).sum()/len(y):g}\")\n",
    "print(f\"MSE (real) : {100*np.square(y-function[PROBLEM_NUM](x)).sum()/len(y):g}\")"
   ]
  }
 ],
 "metadata": {
  "kernelspec": {
   "display_name": ".venv",
   "language": "python",
   "name": "python3"
  },
  "language_info": {
   "codemirror_mode": {
    "name": "ipython",
    "version": 3
   },
   "file_extension": ".py",
   "mimetype": "text/x-python",
   "name": "python",
   "nbconvert_exporter": "python",
   "pygments_lexer": "ipython3",
   "version": "3.12.0"
  }
 },
 "nbformat": 4,
 "nbformat_minor": 2
}
