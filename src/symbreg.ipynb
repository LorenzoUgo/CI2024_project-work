{
 "cells": [
  {
   "cell_type": "code",
   "execution_count": 3,
   "metadata": {},
   "outputs": [
    {
     "data": {
      "text/plain": [
       "False"
      ]
     },
     "execution_count": 3,
     "metadata": {},
     "output_type": "execute_result"
    }
   ],
   "source": [
    "import numpy as np\n",
    "from icecream import ic\n",
    "import inspect\n",
    "from utils import Node, Genetic_Algorithm\n",
    "import random\n",
    "\n",
    "PROBLEM_NUM = 4\n",
    "\n",
    "bool(tuple([]))"
   ]
  },
  {
   "cell_type": "code",
   "execution_count": 6,
   "metadata": {},
   "outputs": [
    {
     "ename": "TypeError",
     "evalue": "slice indices must be integers or None or have an __index__ method",
     "output_type": "error",
     "traceback": [
      "\u001b[1;31m---------------------------------------------------------------------------\u001b[0m",
      "\u001b[1;31mTypeError\u001b[0m                                 Traceback (most recent call last)",
      "Cell \u001b[1;32mIn[6], line 1\u001b[0m\n\u001b[1;32m----> 1\u001b[0m (x_train, y_train) , (x_test, y_test) \u001b[38;5;241m=\u001b[39m \u001b[43mutils\u001b[49m\u001b[38;5;241;43m.\u001b[39;49m\u001b[43mdata_split\u001b[49m\u001b[43m(\u001b[49m\u001b[43mPROBLEM_NUM\u001b[49m\u001b[43m)\u001b[49m\n",
      "File \u001b[1;32mc:\\Users\\Lorenzo Ugoccioni\\Documents\\PoliTo\\LM - III anno\\Computational Intelligence\\Labs\\CI2024_Project_Work\\src\\utils.py:101\u001b[0m, in \u001b[0;36mdata_split\u001b[1;34m(problem_num)\u001b[0m\n\u001b[0;32m     98\u001b[0m y \u001b[38;5;241m=\u001b[39m data[\u001b[38;5;124m'\u001b[39m\u001b[38;5;124my\u001b[39m\u001b[38;5;124m'\u001b[39m]\n\u001b[0;32m     99\u001b[0m idx_split \u001b[38;5;241m=\u001b[39m x\u001b[38;5;241m.\u001b[39mshape[\u001b[38;5;241m1\u001b[39m]\u001b[38;5;241m*\u001b[39m\u001b[38;5;241m70\u001b[39m\u001b[38;5;241m/\u001b[39m\u001b[38;5;241m100\u001b[39m\n\u001b[1;32m--> 101\u001b[0m \u001b[38;5;28;01mreturn\u001b[39;00m (\u001b[43mx\u001b[49m\u001b[43m[\u001b[49m\u001b[43m:\u001b[49m\u001b[43m,\u001b[49m\u001b[43m \u001b[49m\u001b[43m:\u001b[49m\u001b[43midx_split\u001b[49m\u001b[43m]\u001b[49m, y[:idx_split]), (x[:, idx_split:], y[idx_split:])\n",
      "\u001b[1;31mTypeError\u001b[0m: slice indices must be integers or None or have an __index__ method"
     ]
    }
   ],
   "source": [
    "(x_train, y_train) , (x_test, y_test) = utils.data_split(PROBLEM_NUM)"
   ]
  },
  {
   "cell_type": "code",
   "execution_count": 2,
   "metadata": {},
   "outputs": [],
   "source": [
    "tree = Node(np.abs, [Node(np.multiply, (Node(4),Node(\"x\")))])"
   ]
  },
  {
   "cell_type": "code",
   "execution_count": 3,
   "metadata": {},
   "outputs": [
    {
     "name": "stdout",
     "output_type": "stream",
     "text": [
      "(absolute (4 multiply x))\n"
     ]
    }
   ],
   "source": [
    "print(tree)"
   ]
  },
  {
   "cell_type": "code",
   "execution_count": 20,
   "metadata": {},
   "outputs": [
    {
     "name": "stdout",
     "output_type": "stream",
     "text": [
      "True\n"
     ]
    }
   ],
   "source": [
    "var_list = [f\"x{i}\" for i in range(5)]\n",
    "\n",
    "i = random.choice(var_list)\n",
    "j = random.choice(var_list)\n",
    "\n",
    "while i != j:\n",
    "    j = random.choice(var_list)\n",
    "\n",
    "print(i is j)"
   ]
  },
  {
   "cell_type": "code",
   "execution_count": 8,
   "metadata": {},
   "outputs": [
    {
     "name": "stdout",
     "output_type": "stream",
     "text": [
      "arcsinh\n",
      "sin\n",
      "exp\n",
      "exp\n",
      "arccos\n",
      "arctan\n",
      "cbrt\n",
      "subtract\n",
      "arcsinh\n",
      "log10\n",
      "log\n",
      "hypot\n",
      "hypot\n",
      "arctanh\n",
      "log1p\n",
      "absolute\n"
     ]
    }
   ],
   "source": [
    "ga = Genetic_Algorithm(10,10,10,10,10,3)"
   ]
  },
  {
   "cell_type": "code",
   "execution_count": 9,
   "metadata": {},
   "outputs": [
    {
     "name": "stdout",
     "output_type": "stream",
     "text": [
      "[<utils.Individual object at 0x000002B3B50D4C80>, <utils.Individual object at 0x000002B3B50D4890>, <utils.Individual object at 0x000002B3B50D4170>, <utils.Individual object at 0x000002B3B50D60C0>, <utils.Individual object at 0x000002B3B50D6090>, <utils.Individual object at 0x000002B3A6CC6D50>, <utils.Individual object at 0x000002B3A6C565D0>, <utils.Individual object at 0x000002B3B50CE570>, <utils.Individual object at 0x000002B3B50CFC50>, <utils.Individual object at 0x000002B3B50CF830>]\n",
      "(arcsinh x1)\n",
      "(sin x0)\n",
      "(exp (exp (arccos x2)))\n",
      "(arctan 0.9695611851188644)\n",
      "(cbrt x1)\n",
      "(x1 subtract x0)\n",
      "(arcsinh -0.422371724283928)\n",
      "(log10 (log (x2 hypot x0)))\n",
      "(x2 hypot (arctanh x0))\n",
      "(log1p (absolute -0.597658180334891))\n"
     ]
    }
   ],
   "source": [
    "print(ga._population)\n",
    "ga.show_population()"
   ]
  },
  {
   "cell_type": "code",
   "execution_count": 6,
   "metadata": {},
   "outputs": [
    {
     "name": "stdout",
     "output_type": "stream",
     "text": [
      "Computed value:  1.9327034817256148\n",
      "Computed value:  0.8399436735508534\n",
      "Computed value:  9.074424655013587\n",
      "Computed value:  -1.0969358435340042\n",
      "Computed value:  nan\n",
      "Computed value:  1.0\n",
      "Computed value:  1.0\n",
      "Computed value:  50.74208966674222\n",
      "Computed value:  -1.0969358435340042\n",
      "Computed value:  1.340781645467003\n"
     ]
    },
    {
     "name": "stderr",
     "output_type": "stream",
     "text": [
      "c:\\Users\\Lorenzo Ugoccioni\\Documents\\PoliTo\\LM - III anno\\Computational Intelligence\\Labs\\CI2024_Project_Work\\src\\utils.py:63: RuntimeWarning: invalid value encountered in arccos\n",
      "  return node(*_args)\n"
     ]
    }
   ],
   "source": [
    "ga.deploy_population(2.31)"
   ]
  },
  {
   "cell_type": "code",
   "execution_count": 19,
   "metadata": {},
   "outputs": [
    {
     "data": {
      "text/plain": [
       "inf"
      ]
     },
     "execution_count": 19,
     "metadata": {},
     "output_type": "execute_result"
    }
   ],
   "source": [
    "1e999"
   ]
  },
  {
   "cell_type": "code",
   "execution_count": 8,
   "metadata": {},
   "outputs": [
    {
     "name": "stdout",
     "output_type": "stream",
     "text": [
      "()\n"
     ]
    }
   ],
   "source": [
    "x = tuple()\n",
    "y = list(x).append(6)\n",
    "print (x)"
   ]
  },
  {
   "cell_type": "code",
   "execution_count": 6,
   "metadata": {},
   "outputs": [
    {
     "name": "stdout",
     "output_type": "stream",
     "text": [
      "Problem type 1:  (1, 500) (500,)\n"
     ]
    }
   ],
   "source": [
    "#for i in range(0,9):\n",
    "i=1\n",
    "problem = np.load(f'../data/problem_{i}.npz')\n",
    "x = problem['x']\n",
    "y = problem['y']\n",
    "print(f\"Problem type {i}: \",x.shape, y.shape)"
   ]
  },
  {
   "cell_type": "code",
   "execution_count": 25,
   "metadata": {},
   "outputs": [
    {
     "name": "stdout",
     "output_type": "stream",
     "text": [
      "Problem type 4:  (2, 5000) (5000,)\n"
     ]
    }
   ],
   "source": [
    "problem = np.load(f'../data/problem_{PROBLEM_NUM}.npz')\n",
    "x = problem['x']\n",
    "y = problem['y']\n",
    "print(f\"Problem type {PROBLEM_NUM}: \",x.shape, y.shape)"
   ]
  },
  {
   "cell_type": "code",
   "execution_count": 28,
   "metadata": {},
   "outputs": [
    {
     "data": {
      "image/png": "[encoded data removed]",
      "text/plain": [
       "<Figure size 640x480 with 1 Axes>"
      ]
     },
     "metadata": {},
     "output_type": "display_data"
    }
   ],
   "source": [
    "import matplotlib.pyplot as plt\n",
    "\n",
    "plt.figure()\n",
    "\n",
    "plt.scatter(x[1], y)\n",
    "plt.show()"
   ]
  },
  {
   "cell_type": "code",
   "execution_count": 37,
   "metadata": {},
   "outputs": [
    {
     "ename": "SyntaxError",
     "evalue": "invalid syntax (784021447.py, line 1)",
     "output_type": "error",
     "traceback": [
      "\u001b[1;36m  Cell \u001b[1;32mIn[37], line 1\u001b[1;36m\u001b[0m\n\u001b[1;33m    type(np.multiply) === type(utils.train)\u001b[0m\n\u001b[1;37m                        ^\u001b[0m\n\u001b[1;31mSyntaxError\u001b[0m\u001b[1;31m:\u001b[0m invalid syntax\n"
     ]
    }
   ],
   "source": []
  },
  {
   "cell_type": "markdown",
   "metadata": {},
   "source": [
    "## Evaluation\n"
   ]
  },
  {
   "cell_type": "code",
   "execution_count": null,
   "metadata": {},
   "outputs": [],
   "source": [
    "import s315734\n",
    "import utils\n",
    "\n",
    "PROBLEM_NUM = 0\n",
    "\n",
    "function = utils.function_cod(num=8)"
   ]
  },
  {
   "cell_type": "code",
   "execution_count": null,
   "metadata": {},
   "outputs": [],
   "source": [
    "problem = np.load(f'problem_{PROBLEM_NUM}.npz')\n",
    "x = problem['x']\n",
    "y = problem['y']\n",
    "x.shape, y.shape\n"
   ]
  },
  {
   "cell_type": "code",
   "execution_count": null,
   "metadata": {},
   "outputs": [],
   "source": [
    "print(f\"MSE (train): {100*np.square(y_train-s315734.function[PROBLEM_NUM](x_train)).sum()/len(y_train):g}\")\n",
    "print(f\"MSE (real) : {100*np.square(y_validation-s315734.function[PROBLEM_NUM](x_validation)).sum()/len(y_validation):g}\")"
   ]
  }
 ],
 "metadata": {
  "kernelspec": {
   "display_name": ".venv",
   "language": "python",
   "name": "python3"
  },
  "language_info": {
   "codemirror_mode": {
    "name": "ipython",
    "version": 3
   },
   "file_extension": ".py",
   "mimetype": "text/x-python",
   "name": "python",
   "nbconvert_exporter": "python",
   "pygments_lexer": "ipython3",
   "version": "3.12.0"
  }
 },
 "nbformat": 4,
 "nbformat_minor": 2
}
